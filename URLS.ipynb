{
 "cells": [
  {
   "cell_type": "code",
   "execution_count": 6,
   "id": "d3190d6e",
   "metadata": {},
   "outputs": [],
   "source": [
    "class Url:\n",
    "    '''\n",
    "    This class for make and use site url .\n",
    "    \n",
    "    Input: SiteName  .\n",
    "     \n",
    "    Output: Site Url .\n",
    "    \n",
    "    '''\n",
    "    #for instagram url\n",
    "    def instagram():\n",
    "        return 'https://www.instagram.com/'\n",
    "    \n",
    "    #next version\n",
    "    def site_url(site_name):\n",
    "        import requests\n",
    "        requests.get(f'https://www.google.com/search?q={site_name}&sca_esv=574459239&source=hp&ei=LusvZdaxFLqKxc8PpfOogAY&iflsig=AO6bgOgAAAAAZS_5PiYotxCFxaLRBd_YBipIUjhDr4aA&ved=0ahUKEwjWgM_y5v-BAxU6RfEDHaU5CmAQ4dUDCAk&uact=5&oq=facebook&gs_lp=Egdnd3Mtd2l6IghmYWNlYm9vazINEC4YigUYxwEY0QMYQzIHEAAYigUYQzIHEAAYigUYQzIHEAAYigUYQzIHEAAYigUYQzIFEAAYgAQyBRAAGIAEMgUQABiABDIFEAAYgAQyBRAAGIAESJZ7ULAPWPN4cAZ4AJABAJgB6AOgAfUdqgEIMi0xMC4xLjK4AQPIAQD4AQGoAgDCAgsQLhiABBjHARjRA8ICCBAuGIAEGNQCwgIFEC4YgATCAggQABiKBRiRAsICBxAAGIAEGArCAg0QLhiABBjHARjRAxgKwgIHEC4YgAQYCg&sclient=gws-wiz')\n",
    "        "
   ]
  }
 ],
 "metadata": {
  "kernelspec": {
   "display_name": "Python 3 (ipykernel)",
   "language": "python",
   "name": "python3"
  },
  "language_info": {
   "codemirror_mode": {
    "name": "ipython",
    "version": 3
   },
   "file_extension": ".py",
   "mimetype": "text/x-python",
   "name": "python",
   "nbconvert_exporter": "python",
   "pygments_lexer": "ipython3",
   "version": "3.10.13"
  }
 },
 "nbformat": 4,
 "nbformat_minor": 5
}

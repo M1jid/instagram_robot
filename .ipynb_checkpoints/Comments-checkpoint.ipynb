{
 "cells": [
  {
   "cell_type": "code",
   "execution_count": 1,
   "id": "674d743e",
   "metadata": {},
   "outputs": [],
   "source": [
    "class Comments:\n",
    "    '''\n",
    "    NAME\n",
    "        Comments\n",
    "    =============================\n",
    "    \n",
    "    Description :\n",
    "        this class return random comment\n",
    "        \n",
    "    ================\n",
    "    input : list of comments\n",
    "    \n",
    "    ==============================\n",
    "    output : random comment\n",
    "    \n",
    "    '''\n",
    "    def comments():\n",
    "        import random\n",
    "        comments_list = ['😍عالیه', '🔥چه عالی', 'خیلی جذابه', 'چقدرنازه', 'محشره😍', 'چه خوبه', 'خیلی خوشم اومد', 'دوسش داشتم', 'چقدر طرحش نازه😍', \n",
    "                         'چقدر رنگش قشنگه😍', 'رنگش عالیه', 'مدلش عالیه' , '🔥پر فروش باشی عزیزم' , 'چقدر کیوته' , '🔥پر روزی باشی گلم' ,'چقدر شیکه' ,\n",
    "                         'خیلی شیکه😍']\n",
    "        for commen in range(len(comments_list)):\n",
    "            com = random.randint(1,len(comments_list)-1)\n",
    "            comment = comments_list[com]\n",
    "\n",
    "        return comment\n"
   ]
  }
 ],
 "metadata": {
  "kernelspec": {
   "display_name": "Python 3 (ipykernel)",
   "language": "python",
   "name": "python3"
  },
  "language_info": {
   "codemirror_mode": {
    "name": "ipython",
    "version": 3
   },
   "file_extension": ".py",
   "mimetype": "text/x-python",
   "name": "python",
   "nbconvert_exporter": "python",
   "pygments_lexer": "ipython3",
   "version": "3.10.13"
  }
 },
 "nbformat": 4,
 "nbformat_minor": 5
}

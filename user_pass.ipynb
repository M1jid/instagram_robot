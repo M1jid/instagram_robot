{
 "cells": [
  {
   "cell_type": "code",
   "execution_count": 1,
   "id": "20e4b53f",
   "metadata": {},
   "outputs": [],
   "source": [
    "class UserPass:\n",
    "    '''\n",
    "    make username or password  for use instagram site\n",
    "    \n",
    "    input: your page-username and your page-password\n",
    "    \n",
    "    output: return username and password \n",
    "    \n",
    "    '''\n",
    "    def user_name( user= 'noora_gallery75'):\n",
    "        return user\n",
    "    def password( password= 'narges1234'):\n",
    "        return password"
   ]
  }
 ],
 "metadata": {
  "kernelspec": {
   "display_name": "Python 3 (ipykernel)",
   "language": "python",
   "name": "python3"
  },
  "language_info": {
   "codemirror_mode": {
    "name": "ipython",
    "version": 3
   },
   "file_extension": ".py",
   "mimetype": "text/x-python",
   "name": "python",
   "nbconvert_exporter": "python",
   "pygments_lexer": "ipython3",
   "version": "3.10.13"
  }
 },
 "nbformat": 4,
 "nbformat_minor": 5
}
